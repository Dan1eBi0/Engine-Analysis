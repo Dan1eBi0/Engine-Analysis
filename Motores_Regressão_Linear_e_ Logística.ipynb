{
 "cells": [
  {
   "cell_type": "markdown",
   "id": "18137534",
   "metadata": {},
   "source": [
    "# Análise motores 150 e 190"
   ]
  },
  {
   "cell_type": "code",
   "execution_count": 1,
   "id": "256be3b5",
   "metadata": {},
   "outputs": [],
   "source": [
    "import sklearn\n",
    "import pandas as pd\n",
    "import numpy as np\n",
    "import seaborn as sn\n",
    "import matplotlib.pyplot as plt\n",
    "%matplotlib inline\n",
    "from SEC_ANALYSIS import *"
   ]
  },
  {
   "cell_type": "code",
   "execution_count": 2,
   "id": "f6709ffe",
   "metadata": {},
   "outputs": [],
   "source": [
    "#Carregando dataset\n",
    "reg = pd.read_excel('Data_Set_Regressao_6.xlsx')"
   ]
  },
  {
   "cell_type": "code",
   "execution_count": 3,
   "id": "f8cbd591",
   "metadata": {},
   "outputs": [
    {
     "data": {
      "text/html": [
       "<div>\n",
       "<style scoped>\n",
       "    .dataframe tbody tr th:only-of-type {\n",
       "        vertical-align: middle;\n",
       "    }\n",
       "\n",
       "    .dataframe tbody tr th {\n",
       "        vertical-align: top;\n",
       "    }\n",
       "\n",
       "    .dataframe thead th {\n",
       "        text-align: right;\n",
       "    }\n",
       "</style>\n",
       "<table border=\"1\" class=\"dataframe\">\n",
       "  <thead>\n",
       "    <tr style=\"text-align: right;\">\n",
       "      <th></th>\n",
       "      <th>BasicVariables/SEC_Velocidade_P2_PV_Timestamp</th>\n",
       "      <th>BasicVariables/SEC_Velocidade_P2_PV</th>\n",
       "      <th>BasicVariables/SEC_Velocidade_P3_PV</th>\n",
       "      <th>BasicVariables/SEC_Velocidade_P4_PV</th>\n",
       "      <th>BasicVariables/SEC_Velocidade_P5_PV</th>\n",
       "      <th>Set</th>\n",
       "      <th>Falha</th>\n",
       "      <th>Set_Point</th>\n",
       "      <th>Cor</th>\n",
       "      <th>Soma</th>\n",
       "      <th>Unnamed: 10</th>\n",
       "      <th>Unnamed: 11</th>\n",
       "      <th>Unnamed: 12</th>\n",
       "      <th>Unnamed: 13</th>\n",
       "      <th>Unnamed: 14</th>\n",
       "      <th>Unnamed: 15</th>\n",
       "    </tr>\n",
       "  </thead>\n",
       "  <tbody>\n",
       "    <tr>\n",
       "      <th>0</th>\n",
       "      <td>2021-03-01 00:00:00.112</td>\n",
       "      <td>145.988844</td>\n",
       "      <td>150.112594</td>\n",
       "      <td>149.588070</td>\n",
       "      <td>151.333223</td>\n",
       "      <td>1</td>\n",
       "      <td>0</td>\n",
       "      <td>150</td>\n",
       "      <td>D</td>\n",
       "      <td>0</td>\n",
       "      <td>NaN</td>\n",
       "      <td>NaN</td>\n",
       "      <td>NaN</td>\n",
       "      <td>NaN</td>\n",
       "      <td>NaN</td>\n",
       "      <td>NaN</td>\n",
       "    </tr>\n",
       "    <tr>\n",
       "      <th>1</th>\n",
       "      <td>2021-03-01 00:00:01.348</td>\n",
       "      <td>145.333596</td>\n",
       "      <td>149.602304</td>\n",
       "      <td>150.737152</td>\n",
       "      <td>151.297747</td>\n",
       "      <td>1</td>\n",
       "      <td>0</td>\n",
       "      <td>150</td>\n",
       "      <td>D</td>\n",
       "      <td>0</td>\n",
       "      <td>NaN</td>\n",
       "      <td>NaN</td>\n",
       "      <td>NaN</td>\n",
       "      <td>NaN</td>\n",
       "      <td>NaN</td>\n",
       "      <td>NaN</td>\n",
       "    </tr>\n",
       "    <tr>\n",
       "      <th>2</th>\n",
       "      <td>2021-03-01 00:00:02.049</td>\n",
       "      <td>145.241375</td>\n",
       "      <td>149.558651</td>\n",
       "      <td>150.464358</td>\n",
       "      <td>150.783715</td>\n",
       "      <td>1</td>\n",
       "      <td>0</td>\n",
       "      <td>150</td>\n",
       "      <td>D</td>\n",
       "      <td>0</td>\n",
       "      <td>NaN</td>\n",
       "      <td>NaN</td>\n",
       "      <td>NaN</td>\n",
       "      <td>NaN</td>\n",
       "      <td>NaN</td>\n",
       "      <td>NaN</td>\n",
       "    </tr>\n",
       "    <tr>\n",
       "      <th>3</th>\n",
       "      <td>2021-03-01 00:00:03.349</td>\n",
       "      <td>145.937183</td>\n",
       "      <td>150.032650</td>\n",
       "      <td>149.646428</td>\n",
       "      <td>152.027451</td>\n",
       "      <td>1</td>\n",
       "      <td>0</td>\n",
       "      <td>150</td>\n",
       "      <td>D</td>\n",
       "      <td>0</td>\n",
       "      <td>NaN</td>\n",
       "      <td>NaN</td>\n",
       "      <td>NaN</td>\n",
       "      <td>NaN</td>\n",
       "      <td>NaN</td>\n",
       "      <td>NaN</td>\n",
       "    </tr>\n",
       "    <tr>\n",
       "      <th>4</th>\n",
       "      <td>2021-03-01 00:00:04.029</td>\n",
       "      <td>145.900268</td>\n",
       "      <td>149.697587</td>\n",
       "      <td>150.371697</td>\n",
       "      <td>151.034176</td>\n",
       "      <td>1</td>\n",
       "      <td>0</td>\n",
       "      <td>150</td>\n",
       "      <td>D</td>\n",
       "      <td>0</td>\n",
       "      <td>NaN</td>\n",
       "      <td>NaN</td>\n",
       "      <td>NaN</td>\n",
       "      <td>NaN</td>\n",
       "      <td>NaN</td>\n",
       "      <td>NaN</td>\n",
       "    </tr>\n",
       "  </tbody>\n",
       "</table>\n",
       "</div>"
      ],
      "text/plain": [
       "  BasicVariables/SEC_Velocidade_P2_PV_Timestamp  \\\n",
       "0                       2021-03-01 00:00:00.112   \n",
       "1                       2021-03-01 00:00:01.348   \n",
       "2                       2021-03-01 00:00:02.049   \n",
       "3                       2021-03-01 00:00:03.349   \n",
       "4                       2021-03-01 00:00:04.029   \n",
       "\n",
       "   BasicVariables/SEC_Velocidade_P2_PV  BasicVariables/SEC_Velocidade_P3_PV  \\\n",
       "0                           145.988844                           150.112594   \n",
       "1                           145.333596                           149.602304   \n",
       "2                           145.241375                           149.558651   \n",
       "3                           145.937183                           150.032650   \n",
       "4                           145.900268                           149.697587   \n",
       "\n",
       "   BasicVariables/SEC_Velocidade_P4_PV  BasicVariables/SEC_Velocidade_P5_PV  \\\n",
       "0                           149.588070                           151.333223   \n",
       "1                           150.737152                           151.297747   \n",
       "2                           150.464358                           150.783715   \n",
       "3                           149.646428                           152.027451   \n",
       "4                           150.371697                           151.034176   \n",
       "\n",
       "   Set  Falha  Set_Point Cor  Soma  Unnamed: 10  Unnamed: 11  Unnamed: 12  \\\n",
       "0    1      0        150   D     0          NaN          NaN          NaN   \n",
       "1    1      0        150   D     0          NaN          NaN          NaN   \n",
       "2    1      0        150   D     0          NaN          NaN          NaN   \n",
       "3    1      0        150   D     0          NaN          NaN          NaN   \n",
       "4    1      0        150   D     0          NaN          NaN          NaN   \n",
       "\n",
       "   Unnamed: 13  Unnamed: 14  Unnamed: 15  \n",
       "0          NaN          NaN          NaN  \n",
       "1          NaN          NaN          NaN  \n",
       "2          NaN          NaN          NaN  \n",
       "3          NaN          NaN          NaN  \n",
       "4          NaN          NaN          NaN  "
      ]
     },
     "execution_count": 3,
     "metadata": {},
     "output_type": "execute_result"
    }
   ],
   "source": [
    "reg.head()"
   ]
  },
  {
   "cell_type": "code",
   "execution_count": 26,
   "id": "cd3f88eb",
   "metadata": {},
   "outputs": [],
   "source": [
    "reg.drop(['Unnamed: 10', 'Unnamed: 11', 'Unnamed: 12', 'Unnamed: 13', 'Unnamed: 14', 'Unnamed: 15'], axis=1, inplace=True) "
   ]
  },
  {
   "cell_type": "code",
   "execution_count": 27,
   "id": "d5c8fe12",
   "metadata": {},
   "outputs": [
    {
     "data": {
      "text/html": [
       "<div>\n",
       "<style scoped>\n",
       "    .dataframe tbody tr th:only-of-type {\n",
       "        vertical-align: middle;\n",
       "    }\n",
       "\n",
       "    .dataframe tbody tr th {\n",
       "        vertical-align: top;\n",
       "    }\n",
       "\n",
       "    .dataframe thead th {\n",
       "        text-align: right;\n",
       "    }\n",
       "</style>\n",
       "<table border=\"1\" class=\"dataframe\">\n",
       "  <thead>\n",
       "    <tr style=\"text-align: right;\">\n",
       "      <th></th>\n",
       "      <th>BasicVariables/SEC_Velocidade_P2_PV_Timestamp</th>\n",
       "      <th>BasicVariables/SEC_Velocidade_P2_PV</th>\n",
       "      <th>BasicVariables/SEC_Velocidade_P3_PV</th>\n",
       "      <th>BasicVariables/SEC_Velocidade_P4_PV</th>\n",
       "      <th>BasicVariables/SEC_Velocidade_P5_PV</th>\n",
       "      <th>Set</th>\n",
       "      <th>Falha</th>\n",
       "      <th>Set_Point</th>\n",
       "      <th>Cor</th>\n",
       "      <th>Soma</th>\n",
       "    </tr>\n",
       "  </thead>\n",
       "  <tbody>\n",
       "    <tr>\n",
       "      <th>5173</th>\n",
       "      <td>2021-03-10 04:38:37.966</td>\n",
       "      <td>183.608402</td>\n",
       "      <td>188.708229</td>\n",
       "      <td>191.361884</td>\n",
       "      <td>191.278107</td>\n",
       "      <td>8</td>\n",
       "      <td>0</td>\n",
       "      <td>190</td>\n",
       "      <td>E</td>\n",
       "      <td>5</td>\n",
       "    </tr>\n",
       "    <tr>\n",
       "      <th>5174</th>\n",
       "      <td>2021-03-10 04:38:39.260</td>\n",
       "      <td>183.163249</td>\n",
       "      <td>188.388229</td>\n",
       "      <td>189.453394</td>\n",
       "      <td>186.615889</td>\n",
       "      <td>8</td>\n",
       "      <td>0</td>\n",
       "      <td>190</td>\n",
       "      <td>E</td>\n",
       "      <td>5</td>\n",
       "    </tr>\n",
       "    <tr>\n",
       "      <th>5175</th>\n",
       "      <td>2021-03-10 04:38:40.018</td>\n",
       "      <td>185.444352</td>\n",
       "      <td>187.568599</td>\n",
       "      <td>190.225367</td>\n",
       "      <td>190.044304</td>\n",
       "      <td>8</td>\n",
       "      <td>0</td>\n",
       "      <td>190</td>\n",
       "      <td>E</td>\n",
       "      <td>5</td>\n",
       "    </tr>\n",
       "    <tr>\n",
       "      <th>5176</th>\n",
       "      <td>2021-03-10 04:38:40.891</td>\n",
       "      <td>182.766203</td>\n",
       "      <td>187.360502</td>\n",
       "      <td>184.377795</td>\n",
       "      <td>190.178814</td>\n",
       "      <td>8</td>\n",
       "      <td>0</td>\n",
       "      <td>190</td>\n",
       "      <td>E</td>\n",
       "      <td>5</td>\n",
       "    </tr>\n",
       "    <tr>\n",
       "      <th>5177</th>\n",
       "      <td>2021-03-10 04:38:41.964</td>\n",
       "      <td>16.582312</td>\n",
       "      <td>0.000000</td>\n",
       "      <td>1374.318553</td>\n",
       "      <td>12.292699</td>\n",
       "      <td>8</td>\n",
       "      <td>1</td>\n",
       "      <td>190</td>\n",
       "      <td>E</td>\n",
       "      <td>5</td>\n",
       "    </tr>\n",
       "  </tbody>\n",
       "</table>\n",
       "</div>"
      ],
      "text/plain": [
       "     BasicVariables/SEC_Velocidade_P2_PV_Timestamp  \\\n",
       "5173                       2021-03-10 04:38:37.966   \n",
       "5174                       2021-03-10 04:38:39.260   \n",
       "5175                       2021-03-10 04:38:40.018   \n",
       "5176                       2021-03-10 04:38:40.891   \n",
       "5177                       2021-03-10 04:38:41.964   \n",
       "\n",
       "      BasicVariables/SEC_Velocidade_P2_PV  \\\n",
       "5173                           183.608402   \n",
       "5174                           183.163249   \n",
       "5175                           185.444352   \n",
       "5176                           182.766203   \n",
       "5177                            16.582312   \n",
       "\n",
       "      BasicVariables/SEC_Velocidade_P3_PV  \\\n",
       "5173                           188.708229   \n",
       "5174                           188.388229   \n",
       "5175                           187.568599   \n",
       "5176                           187.360502   \n",
       "5177                             0.000000   \n",
       "\n",
       "      BasicVariables/SEC_Velocidade_P4_PV  \\\n",
       "5173                           191.361884   \n",
       "5174                           189.453394   \n",
       "5175                           190.225367   \n",
       "5176                           184.377795   \n",
       "5177                          1374.318553   \n",
       "\n",
       "      BasicVariables/SEC_Velocidade_P5_PV  Set  Falha  Set_Point Cor  Soma  \n",
       "5173                           191.278107    8      0        190   E     5  \n",
       "5174                           186.615889    8      0        190   E     5  \n",
       "5175                           190.044304    8      0        190   E     5  \n",
       "5176                           190.178814    8      0        190   E     5  \n",
       "5177                            12.292699    8      1        190   E     5  "
      ]
     },
     "execution_count": 27,
     "metadata": {},
     "output_type": "execute_result"
    }
   ],
   "source": [
    "reg.tail()"
   ]
  },
  {
   "cell_type": "code",
   "execution_count": 5,
   "id": "f9580740",
   "metadata": {},
   "outputs": [
    {
     "name": "stdout",
     "output_type": "stream",
     "text": [
      " Este arquivo contém 5178 linhas e 16 colunas.\n"
     ]
    }
   ],
   "source": [
    "print(\" Este arquivo contém {0} linhas e {1} colunas.\".format(reg.shape[0], reg.shape[1]))"
   ]
  },
  {
   "cell_type": "code",
   "execution_count": 6,
   "id": "6e20f149",
   "metadata": {},
   "outputs": [
    {
     "name": "stdout",
     "output_type": "stream",
     "text": [
      " Este arquivo contém 0 linhas duplicadas.\n"
     ]
    }
   ],
   "source": [
    "print(\" Este arquivo contém {0} linhas duplicadas.\".format(sum(reg.duplicated())))"
   ]
  },
  {
   "cell_type": "code",
   "execution_count": 7,
   "id": "1af8dc62",
   "metadata": {},
   "outputs": [
    {
     "data": {
      "text/html": [
       "<div>\n",
       "<style scoped>\n",
       "    .dataframe tbody tr th:only-of-type {\n",
       "        vertical-align: middle;\n",
       "    }\n",
       "\n",
       "    .dataframe tbody tr th {\n",
       "        vertical-align: top;\n",
       "    }\n",
       "\n",
       "    .dataframe thead th {\n",
       "        text-align: right;\n",
       "    }\n",
       "</style>\n",
       "<table border=\"1\" class=\"dataframe\">\n",
       "  <thead>\n",
       "    <tr style=\"text-align: right;\">\n",
       "      <th></th>\n",
       "      <th>BasicVariables/SEC_Velocidade_P2_PV</th>\n",
       "      <th>BasicVariables/SEC_Velocidade_P3_PV</th>\n",
       "      <th>BasicVariables/SEC_Velocidade_P4_PV</th>\n",
       "      <th>BasicVariables/SEC_Velocidade_P5_PV</th>\n",
       "      <th>Set</th>\n",
       "      <th>Falha</th>\n",
       "      <th>Set_Point</th>\n",
       "      <th>Soma</th>\n",
       "      <th>Unnamed: 10</th>\n",
       "      <th>Unnamed: 11</th>\n",
       "      <th>Unnamed: 12</th>\n",
       "      <th>Unnamed: 13</th>\n",
       "      <th>Unnamed: 14</th>\n",
       "      <th>Unnamed: 15</th>\n",
       "    </tr>\n",
       "  </thead>\n",
       "  <tbody>\n",
       "    <tr>\n",
       "      <th>count</th>\n",
       "      <td>5178.000000</td>\n",
       "      <td>5178.000000</td>\n",
       "      <td>5178.000000</td>\n",
       "      <td>5178.000000</td>\n",
       "      <td>5178.000000</td>\n",
       "      <td>5178.000000</td>\n",
       "      <td>5178.000000</td>\n",
       "      <td>5178.000000</td>\n",
       "      <td>0.0</td>\n",
       "      <td>0.0</td>\n",
       "      <td>0.0</td>\n",
       "      <td>0.0</td>\n",
       "      <td>0.0</td>\n",
       "      <td>0.0</td>\n",
       "    </tr>\n",
       "    <tr>\n",
       "      <th>mean</th>\n",
       "      <td>173.442596</td>\n",
       "      <td>178.713889</td>\n",
       "      <td>180.707854</td>\n",
       "      <td>179.885000</td>\n",
       "      <td>5.918115</td>\n",
       "      <td>0.000966</td>\n",
       "      <td>179.586713</td>\n",
       "      <td>3.698339</td>\n",
       "      <td>NaN</td>\n",
       "      <td>NaN</td>\n",
       "      <td>NaN</td>\n",
       "      <td>NaN</td>\n",
       "      <td>NaN</td>\n",
       "      <td>NaN</td>\n",
       "    </tr>\n",
       "    <tr>\n",
       "      <th>std</th>\n",
       "      <td>23.992002</td>\n",
       "      <td>24.346317</td>\n",
       "      <td>37.553915</td>\n",
       "      <td>17.950154</td>\n",
       "      <td>2.582062</td>\n",
       "      <td>0.031062</td>\n",
       "      <td>17.554328</td>\n",
       "      <td>2.194291</td>\n",
       "      <td>NaN</td>\n",
       "      <td>NaN</td>\n",
       "      <td>NaN</td>\n",
       "      <td>NaN</td>\n",
       "      <td>NaN</td>\n",
       "      <td>NaN</td>\n",
       "    </tr>\n",
       "    <tr>\n",
       "      <th>min</th>\n",
       "      <td>0.736617</td>\n",
       "      <td>0.000000</td>\n",
       "      <td>0.000008</td>\n",
       "      <td>0.000000</td>\n",
       "      <td>1.000000</td>\n",
       "      <td>0.000000</td>\n",
       "      <td>150.000000</td>\n",
       "      <td>0.000000</td>\n",
       "      <td>NaN</td>\n",
       "      <td>NaN</td>\n",
       "      <td>NaN</td>\n",
       "      <td>NaN</td>\n",
       "      <td>NaN</td>\n",
       "      <td>NaN</td>\n",
       "    </tr>\n",
       "    <tr>\n",
       "      <th>25%</th>\n",
       "      <td>146.434368</td>\n",
       "      <td>150.574449</td>\n",
       "      <td>151.114427</td>\n",
       "      <td>152.003862</td>\n",
       "      <td>3.000000</td>\n",
       "      <td>0.000000</td>\n",
       "      <td>150.000000</td>\n",
       "      <td>0.000000</td>\n",
       "      <td>NaN</td>\n",
       "      <td>NaN</td>\n",
       "      <td>NaN</td>\n",
       "      <td>NaN</td>\n",
       "      <td>NaN</td>\n",
       "      <td>NaN</td>\n",
       "    </tr>\n",
       "    <tr>\n",
       "      <th>50%</th>\n",
       "      <td>182.298890</td>\n",
       "      <td>188.195512</td>\n",
       "      <td>189.714842</td>\n",
       "      <td>189.635880</td>\n",
       "      <td>8.000000</td>\n",
       "      <td>0.000000</td>\n",
       "      <td>190.000000</td>\n",
       "      <td>5.000000</td>\n",
       "      <td>NaN</td>\n",
       "      <td>NaN</td>\n",
       "      <td>NaN</td>\n",
       "      <td>NaN</td>\n",
       "      <td>NaN</td>\n",
       "      <td>NaN</td>\n",
       "    </tr>\n",
       "    <tr>\n",
       "      <th>75%</th>\n",
       "      <td>183.661435</td>\n",
       "      <td>189.212667</td>\n",
       "      <td>190.803538</td>\n",
       "      <td>190.665894</td>\n",
       "      <td>8.000000</td>\n",
       "      <td>0.000000</td>\n",
       "      <td>190.000000</td>\n",
       "      <td>5.000000</td>\n",
       "      <td>NaN</td>\n",
       "      <td>NaN</td>\n",
       "      <td>NaN</td>\n",
       "      <td>NaN</td>\n",
       "      <td>NaN</td>\n",
       "      <td>NaN</td>\n",
       "    </tr>\n",
       "    <tr>\n",
       "      <th>max</th>\n",
       "      <td>1374.323603</td>\n",
       "      <td>1370.342938</td>\n",
       "      <td>1374.318553</td>\n",
       "      <td>200.294893</td>\n",
       "      <td>8.000000</td>\n",
       "      <td>1.000000</td>\n",
       "      <td>190.000000</td>\n",
       "      <td>5.000000</td>\n",
       "      <td>NaN</td>\n",
       "      <td>NaN</td>\n",
       "      <td>NaN</td>\n",
       "      <td>NaN</td>\n",
       "      <td>NaN</td>\n",
       "      <td>NaN</td>\n",
       "    </tr>\n",
       "  </tbody>\n",
       "</table>\n",
       "</div>"
      ],
      "text/plain": [
       "       BasicVariables/SEC_Velocidade_P2_PV  \\\n",
       "count                          5178.000000   \n",
       "mean                            173.442596   \n",
       "std                              23.992002   \n",
       "min                               0.736617   \n",
       "25%                             146.434368   \n",
       "50%                             182.298890   \n",
       "75%                             183.661435   \n",
       "max                            1374.323603   \n",
       "\n",
       "       BasicVariables/SEC_Velocidade_P3_PV  \\\n",
       "count                          5178.000000   \n",
       "mean                            178.713889   \n",
       "std                              24.346317   \n",
       "min                               0.000000   \n",
       "25%                             150.574449   \n",
       "50%                             188.195512   \n",
       "75%                             189.212667   \n",
       "max                            1370.342938   \n",
       "\n",
       "       BasicVariables/SEC_Velocidade_P4_PV  \\\n",
       "count                          5178.000000   \n",
       "mean                            180.707854   \n",
       "std                              37.553915   \n",
       "min                               0.000008   \n",
       "25%                             151.114427   \n",
       "50%                             189.714842   \n",
       "75%                             190.803538   \n",
       "max                            1374.318553   \n",
       "\n",
       "       BasicVariables/SEC_Velocidade_P5_PV          Set        Falha  \\\n",
       "count                          5178.000000  5178.000000  5178.000000   \n",
       "mean                            179.885000     5.918115     0.000966   \n",
       "std                              17.950154     2.582062     0.031062   \n",
       "min                               0.000000     1.000000     0.000000   \n",
       "25%                             152.003862     3.000000     0.000000   \n",
       "50%                             189.635880     8.000000     0.000000   \n",
       "75%                             190.665894     8.000000     0.000000   \n",
       "max                             200.294893     8.000000     1.000000   \n",
       "\n",
       "         Set_Point         Soma  Unnamed: 10  Unnamed: 11  Unnamed: 12  \\\n",
       "count  5178.000000  5178.000000          0.0          0.0          0.0   \n",
       "mean    179.586713     3.698339          NaN          NaN          NaN   \n",
       "std      17.554328     2.194291          NaN          NaN          NaN   \n",
       "min     150.000000     0.000000          NaN          NaN          NaN   \n",
       "25%     150.000000     0.000000          NaN          NaN          NaN   \n",
       "50%     190.000000     5.000000          NaN          NaN          NaN   \n",
       "75%     190.000000     5.000000          NaN          NaN          NaN   \n",
       "max     190.000000     5.000000          NaN          NaN          NaN   \n",
       "\n",
       "       Unnamed: 13  Unnamed: 14  Unnamed: 15  \n",
       "count          0.0          0.0          0.0  \n",
       "mean           NaN          NaN          NaN  \n",
       "std            NaN          NaN          NaN  \n",
       "min            NaN          NaN          NaN  \n",
       "25%            NaN          NaN          NaN  \n",
       "50%            NaN          NaN          NaN  \n",
       "75%            NaN          NaN          NaN  \n",
       "max            NaN          NaN          NaN  "
      ]
     },
     "execution_count": 7,
     "metadata": {},
     "output_type": "execute_result"
    }
   ],
   "source": [
    "reg.describe()"
   ]
  },
  {
   "cell_type": "code",
   "execution_count": 8,
   "id": "d8d083e6",
   "metadata": {},
   "outputs": [
    {
     "data": {
      "text/plain": [
       "BasicVariables/SEC_Velocidade_P2_PV_Timestamp       0\n",
       "BasicVariables/SEC_Velocidade_P2_PV                 0\n",
       "BasicVariables/SEC_Velocidade_P3_PV                 0\n",
       "BasicVariables/SEC_Velocidade_P4_PV                 0\n",
       "BasicVariables/SEC_Velocidade_P5_PV                 0\n",
       "Set                                                 0\n",
       "Falha                                               0\n",
       "Set_Point                                           0\n",
       "Cor                                                 0\n",
       "Soma                                                0\n",
       "Unnamed: 10                                      5178\n",
       "Unnamed: 11                                      5178\n",
       "Unnamed: 12                                      5178\n",
       "Unnamed: 13                                      5178\n",
       "Unnamed: 14                                      5178\n",
       "Unnamed: 15                                      5178\n",
       "dtype: int64"
      ]
     },
     "execution_count": 8,
     "metadata": {},
     "output_type": "execute_result"
    }
   ],
   "source": [
    "reg.isnull().sum()"
   ]
  },
  {
   "cell_type": "code",
   "execution_count": 9,
   "id": "5761f453",
   "metadata": {},
   "outputs": [],
   "source": [
    "#Criando cópia do dataframe principal\n",
    "reg2 = reg.copy()"
   ]
  },
  {
   "cell_type": "code",
   "execution_count": 10,
   "id": "07db301b",
   "metadata": {},
   "outputs": [
    {
     "data": {
      "text/plain": [
       "5178"
      ]
     },
     "execution_count": 10,
     "metadata": {},
     "output_type": "execute_result"
    }
   ],
   "source": [
    "reg2.shape[0]"
   ]
  },
  {
   "cell_type": "code",
   "execution_count": 11,
   "id": "608ad654",
   "metadata": {},
   "outputs": [
    {
     "data": {
      "text/plain": [
       "BasicVariables/SEC_Velocidade_P2_PV_Timestamp    datetime64[ns]\n",
       "BasicVariables/SEC_Velocidade_P2_PV                     float64\n",
       "BasicVariables/SEC_Velocidade_P3_PV                     float64\n",
       "BasicVariables/SEC_Velocidade_P4_PV                     float64\n",
       "BasicVariables/SEC_Velocidade_P5_PV                     float64\n",
       "Set                                                       int64\n",
       "Falha                                                     int64\n",
       "Set_Point                                                 int64\n",
       "Cor                                                      object\n",
       "Soma                                                      int64\n",
       "Unnamed: 10                                             float64\n",
       "Unnamed: 11                                             float64\n",
       "Unnamed: 12                                             float64\n",
       "Unnamed: 13                                             float64\n",
       "Unnamed: 14                                             float64\n",
       "Unnamed: 15                                             float64\n",
       "dtype: object"
      ]
     },
     "execution_count": 11,
     "metadata": {},
     "output_type": "execute_result"
    }
   ],
   "source": [
    "reg2.dtypes"
   ]
  },
  {
   "cell_type": "markdown",
   "id": "dbc2ae2c",
   "metadata": {},
   "source": [
    "# Parte 2: Regressão Linear Múltipla"
   ]
  },
  {
   "cell_type": "code",
   "execution_count": 12,
   "id": "ecb411de",
   "metadata": {},
   "outputs": [],
   "source": [
    "from sklearn.metrics import mean_absolute_error\n",
    "from sklearn.model_selection import train_test_split\n",
    "from sklearn.model_selection import ShuffleSplit\n",
    "from sklearn.linear_model import LinearRegression"
   ]
  },
  {
   "cell_type": "code",
   "execution_count": 13,
   "id": "03261370",
   "metadata": {},
   "outputs": [
    {
     "name": "stdout",
     "output_type": "stream",
     "text": [
      "      BasicVariables/SEC_Velocidade_P2_PV  \\\n",
      "0                              145.988844   \n",
      "1                              145.333596   \n",
      "2                              145.241375   \n",
      "3                              145.937183   \n",
      "4                              145.900268   \n",
      "...                                   ...   \n",
      "5173                           183.608402   \n",
      "5174                           183.163249   \n",
      "5175                           185.444352   \n",
      "5176                           182.766203   \n",
      "5177                            16.582312   \n",
      "\n",
      "      BasicVariables/SEC_Velocidade_P3_PV  \\\n",
      "0                              150.112594   \n",
      "1                              149.602304   \n",
      "2                              149.558651   \n",
      "3                              150.032650   \n",
      "4                              149.697587   \n",
      "...                                   ...   \n",
      "5173                           188.708229   \n",
      "5174                           188.388229   \n",
      "5175                           187.568599   \n",
      "5176                           187.360502   \n",
      "5177                             0.000000   \n",
      "\n",
      "      BasicVariables/SEC_Velocidade_P4_PV  \\\n",
      "0                              149.588070   \n",
      "1                              150.737152   \n",
      "2                              150.464358   \n",
      "3                              149.646428   \n",
      "4                              150.371697   \n",
      "...                                   ...   \n",
      "5173                           191.361884   \n",
      "5174                           189.453394   \n",
      "5175                           190.225367   \n",
      "5176                           184.377795   \n",
      "5177                          1374.318553   \n",
      "\n",
      "      BasicVariables/SEC_Velocidade_P5_PV  Set_Point  \n",
      "0                              151.333223        150  \n",
      "1                              151.297747        150  \n",
      "2                              150.783715        150  \n",
      "3                              152.027451        150  \n",
      "4                              151.034176        150  \n",
      "...                                   ...        ...  \n",
      "5173                           191.278107        190  \n",
      "5174                           186.615889        190  \n",
      "5175                           190.044304        190  \n",
      "5176                           190.178814        190  \n",
      "5177                            12.292699        190  \n",
      "\n",
      "[5178 rows x 5 columns]\n",
      "0       0\n",
      "1       0\n",
      "2       0\n",
      "3       0\n",
      "4       0\n",
      "       ..\n",
      "5173    0\n",
      "5174    0\n",
      "5175    0\n",
      "5176    0\n",
      "5177    1\n",
      "Name: Falha, Length: 5178, dtype: int64\n",
      "****\n",
      "coefficient of determination: 0.9972206236521002\n",
      "intercept: -0.00225260276228735\n",
      "slope: [-2.55014971e-06  9.63926380e-04  9.67898754e-04 -1.88490689e-04\n",
      " -1.72399591e-03]\n"
     ]
    }
   ],
   "source": [
    "y = reg2['Falha']\n",
    "\n",
    "features = ['BasicVariables/SEC_Velocidade_P2_PV',\n",
    "            'BasicVariables/SEC_Velocidade_P3_PV','BasicVariables/SEC_Velocidade_P4_PV', \n",
    "            'BasicVariables/SEC_Velocidade_P5_PV','Set_Point']\n",
    "\n",
    "colors = {'D':'black', 'E':'blue'}\n",
    "\n",
    "X = reg2[features]\n",
    "print(X)\n",
    "print(y)\n",
    "print('****')\n",
    "#XX = np.array(X)\n",
    "#yy = np.array(y)\n",
    "#XX.reshape(1,-1)\n",
    "#print(XX)\n",
    "#print(yy)\n",
    "#train_X, val_X, train_y, val_y = train_test_split(X, y, test_size = 0.2, random_state=1)\n",
    "\n",
    "model = LinearRegression().fit(X,y)\n",
    "\n",
    "print('coefficient of determination:', model.score(X,y))\n",
    "print('intercept:', model.intercept_)\n",
    "print('slope:', model.coef_)"
   ]
  },
  {
   "cell_type": "code",
   "execution_count": 14,
   "id": "496cd961",
   "metadata": {},
   "outputs": [
    {
     "name": "stderr",
     "output_type": "stream",
     "text": [
      "<ipython-input-14-a24c0d50be07>:11: UserWarning: Matplotlib is currently using module://ipykernel.pylab.backend_inline, which is a non-GUI backend, so cannot show the figure.\n",
      "  fig.show()\n"
     ]
    },
    {
     "data": {
      "image/png": "[encoded data removed]",
      "text/plain": [
       "<Figure size 432x288 with 1 Axes>"
      ]
     },
     "metadata": {
      "needs_background": "light"
     },
     "output_type": "display_data"
    },
    {
     "data": {
      "image/png": "[encoded data removed]",
      "text/plain": [
       "<Figure size 432x288 with 1 Axes>"
      ]
     },
     "metadata": {
      "needs_background": "light"
     },
     "output_type": "display_data"
    },
    {
     "data": {
      "image/png": "[encoded data removed]",
      "text/plain": [
       "<Figure size 432x288 with 1 Axes>"
      ]
     },
     "metadata": {
      "needs_background": "light"
     },
     "output_type": "display_data"
    },
    {
     "data": {
      "image/png": "[encoded data removed]",
      "text/plain": [
       "<Figure size 432x288 with 1 Axes>"
      ]
     },
     "metadata": {
      "needs_background": "light"
     },
     "output_type": "display_data"
    }
   ],
   "source": [
    "for variable in ['BasicVariables/SEC_Velocidade_P2_PV','BasicVariables/SEC_Velocidade_P3_PV',\n",
    "                 'BasicVariables/SEC_Velocidade_P4_PV', \n",
    "                 'BasicVariables/SEC_Velocidade_P5_PV']:\n",
    "    x = reg2[variable].values\n",
    "    fig, ax = plt.subplots()\n",
    "    fit = np.polyfit(x, y, deg=1)\n",
    "    ax.plot(x, fit[0] * x + fit[1], color='red')\n",
    "    plt.title(variable)\n",
    "    ax.scatter(x, y, c=reg2['Cor'].apply(lambda w: colors[w]),cmap=colors)\n",
    "    plt.legend(labels=reg2['Set_Point'])\n",
    "fig.show()"
   ]
  },
  {
   "cell_type": "markdown",
   "id": "78aaafff",
   "metadata": {},
   "source": [
    "# Parte 3: Regressão Logística"
   ]
  },
  {
   "cell_type": "code",
   "execution_count": 15,
   "id": "7d55d73c",
   "metadata": {},
   "outputs": [],
   "source": [
    "from sklearn.linear_model import LogisticRegression\n",
    "from sklearn import metrics"
   ]
  },
  {
   "cell_type": "code",
   "execution_count": 16,
   "id": "ba3b5899",
   "metadata": {},
   "outputs": [],
   "source": [
    "X_train,X_test,y_train,y_test = train_test_split(X,y,test_size=0.25,random_state=0)\n",
    "logistic_regression= LogisticRegression()\n",
    "logistic_regression.fit(X_train,y_train)\n",
    "y_pred=logistic_regression.predict(X_test)"
   ]
  },
  {
   "cell_type": "code",
   "execution_count": 17,
   "id": "cb8bbc93",
   "metadata": {},
   "outputs": [
    {
     "data": {
      "text/plain": [
       "<AxesSubplot:xlabel='Predicted', ylabel='Actual'>"
      ]
     },
     "execution_count": 17,
     "metadata": {},
     "output_type": "execute_result"
    },
    {
     "data": {
      "image/png": "[encoded data removed]",
      "text/plain": [
       "<Figure size 432x288 with 2 Axes>"
      ]
     },
     "metadata": {
      "needs_background": "light"
     },
     "output_type": "display_data"
    }
   ],
   "source": [
    "confusion_matrix = pd.crosstab(y_test, y_pred, rownames=['Actual'], colnames=['Predicted'])\n",
    "sn.heatmap(confusion_matrix, annot=True)"
   ]
  },
  {
   "cell_type": "code",
   "execution_count": 18,
   "id": "75ec23e4",
   "metadata": {},
   "outputs": [
    {
     "name": "stdout",
     "output_type": "stream",
     "text": [
      "Accuracy:  1.0\n"
     ]
    }
   ],
   "source": [
    "print('Accuracy: ',metrics.accuracy_score(y_test, y_pred))\n",
    "plt.show()"
   ]
  },
  {
   "cell_type": "code",
   "execution_count": 19,
   "id": "aeb46424",
   "metadata": {
    "scrolled": true
   },
   "outputs": [
    {
     "name": "stdout",
     "output_type": "stream",
     "text": [
      "      BasicVariables/SEC_Velocidade_P2_PV  \\\n",
      "1246                           146.095821   \n",
      "499                            144.973261   \n",
      "4252                           183.040635   \n",
      "3297                           183.796142   \n",
      "1691                           183.313490   \n",
      "...                                   ...   \n",
      "1031                           145.277368   \n",
      "3568                           182.764646   \n",
      "4978                           182.843781   \n",
      "2718                           180.506337   \n",
      "3870                           181.237821   \n",
      "\n",
      "      BasicVariables/SEC_Velocidade_P3_PV  \\\n",
      "1246                           149.335644   \n",
      "499                            150.297057   \n",
      "4252                           190.154158   \n",
      "3297                           188.911247   \n",
      "1691                           191.130604   \n",
      "...                                   ...   \n",
      "1031                           150.348544   \n",
      "3568                           189.120840   \n",
      "4978                           187.634811   \n",
      "2718                           189.804749   \n",
      "3870                           188.130877   \n",
      "\n",
      "      BasicVariables/SEC_Velocidade_P4_PV  \\\n",
      "1246                           150.384773   \n",
      "499                            149.524265   \n",
      "4252                           190.902579   \n",
      "3297                           191.244247   \n",
      "1691                           189.532590   \n",
      "...                                   ...   \n",
      "1031                           149.879101   \n",
      "3568                           189.946737   \n",
      "4978                           189.641748   \n",
      "2718                           189.201900   \n",
      "3870                           190.955520   \n",
      "\n",
      "      BasicVariables/SEC_Velocidade_P5_PV  Set_Point  \n",
      "1246                           151.596371        150  \n",
      "499                            151.245620        150  \n",
      "4252                           193.128118        190  \n",
      "3297                           191.852941        190  \n",
      "1691                           191.527649        190  \n",
      "...                                   ...        ...  \n",
      "1031                           151.105902        150  \n",
      "3568                           190.936346        190  \n",
      "4978                           188.878456        190  \n",
      "2718                           188.935561        190  \n",
      "3870                           187.252323        190  \n",
      "\n",
      "[1295 rows x 5 columns]\n",
      "[0 0 0 ... 0 0 0]\n"
     ]
    }
   ],
   "source": [
    "print (X_test) #test dataset\n",
    "print (y_pred) #predicted values"
   ]
  },
  {
   "cell_type": "code",
   "execution_count": 20,
   "id": "59453995",
   "metadata": {},
   "outputs": [],
   "source": [
    "DataSetTrain = pd.read_excel('Data_Set_Regressao_Train.xlsx')\n",
    "DataSetTest  = pd.read_excel('Data_Set_Regressao_Test.xlsx')"
   ]
  },
  {
   "cell_type": "code",
   "execution_count": 21,
   "id": "432b2d08",
   "metadata": {},
   "outputs": [],
   "source": [
    "y_train = DataSetTrain ['Falha']\n",
    "features_train = ['BasicVariables/SEC_Velocidade_P2_PV',\n",
    "            'BasicVariables/SEC_Velocidade_P3_PV','BasicVariables/SEC_Velocidade_P4_PV', \n",
    "            'BasicVariables/SEC_Velocidade_P5_PV']\n",
    "\n",
    "x_train = DataSetTrain[features_train]\n",
    "\n",
    "y_test = DataSetTest ['Falha']\n",
    "features_test = ['BasicVariables/SEC_Velocidade_P2_PV',\n",
    "            'BasicVariables/SEC_Velocidade_P3_PV','BasicVariables/SEC_Velocidade_P4_PV', \n",
    "            'BasicVariables/SEC_Velocidade_P5_PV']\n",
    "\n",
    "x_test = DataSetTest[features_test]\n",
    "\n",
    "logistic_regression= LogisticRegression()\n",
    "logistic_regression.fit(x_train,y_train)\n",
    "y_pred=logistic_regression.predict(x_test)"
   ]
  },
  {
   "cell_type": "code",
   "execution_count": 22,
   "id": "f50da71e",
   "metadata": {},
   "outputs": [
    {
     "data": {
      "text/plain": [
       "<AxesSubplot:xlabel='Predicted', ylabel='Actual'>"
      ]
     },
     "execution_count": 22,
     "metadata": {},
     "output_type": "execute_result"
    },
    {
     "data": {
      "image/png": "[encoded data removed]",
      "text/plain": [
       "<Figure size 432x288 with 2 Axes>"
      ]
     },
     "metadata": {
      "needs_background": "light"
     },
     "output_type": "display_data"
    }
   ],
   "source": [
    "confusion_matrix = pd.crosstab(y_test, y_pred, rownames=['Actual'], colnames=['Predicted'])\n",
    "sn.heatmap(confusion_matrix, annot=True)"
   ]
  },
  {
   "cell_type": "code",
   "execution_count": 23,
   "id": "3f123268",
   "metadata": {
    "scrolled": true
   },
   "outputs": [
    {
     "name": "stdout",
     "output_type": "stream",
     "text": [
      "Accuracy:  0.9986320109439124\n"
     ]
    }
   ],
   "source": [
    "print('Accuracy: ',metrics.accuracy_score(y_test, y_pred))\n",
    "plt.show()"
   ]
  },
  {
   "cell_type": "code",
   "execution_count": 24,
   "id": "10157ea0",
   "metadata": {},
   "outputs": [
    {
     "name": "stdout",
     "output_type": "stream",
     "text": [
      "[0 0 0 0 0 0 0 0 0 0 0 0 0 0 0 0 0 0 0 0 0 0 0 0 0 0 0 0 0 0 0 0 0 0 0 0 0\n",
      " 0 0 0 0 0 0 0 0 0 0 0 0 0 0 0 0 0 0 0 0 0 0 0 0 0 0 0 0 0 0 0 0 0 0 0 0 0\n",
      " 0 0 0 0 0 0 0 0 0 0 0 0 0 0 0 0 0 0 0 0 0 0 0 0 0 0 0 0 0 0 0 0 0 0 0 0 0\n",
      " 0 0 0 0 0 0 0 0 0 0 0 0 0 0 0 0 0 0 0 0 0 0 0 0 0 0 0 0 0 0 0 0 0 0 0 0 0\n",
      " 0 0 0 0 0 0 0 0 0 0 0 0 0 0 0 0 0 0 0 0 0 0 0 0 0 0 0 0 0 0 0 0 0 0 0 0 0\n",
      " 0 0 0 0 0 0 0 0 0 0 0 0 0 0 0 0 0 0 0 0 0 0 0 0 0 0 0 0 0 0 0 0 0 0 0 0 0\n",
      " 0 0 0 0 0 0 0 0 0 0 0 0 0 0 0 0 0 0 0 0 0 0 0 0 0 0 0 0 0 0 0 0 0 0 0 0 0\n",
      " 0 0 0 0 0 0 0 0 0 0 0 0 0 0 0 0 0 0 0 0 0 0 0 0 0 0 0 0 0 0 0 0 0 0 0 0 0\n",
      " 0 0 0 0 0 0 0 0 0 0 0 0 0 0 0 0 0 0 0 0 0 0 0 0 0 0 0 0 0 0 0 0 0 0 0 0 0\n",
      " 0 0 0 0 0 0 0 0 0 0 0 0 0 0 0 0 0 0 0 0 0 0 0 0 0 0 0 0 0 0 0 0 0 0 0 0 0\n",
      " 0 0 0 0 0 0 0 0 0 0 0 0 0 0 0 0 0 0 0 0 0 0 0 0 0 0 0 0 0 0 0 0 0 0 0 0 0\n",
      " 0 0 0 0 0 0 0 0 0 0 0 0 0 0 0 0 0 0 0 0 0 0 0 0 0 0 0 0 0 0 0 0 0 0 0 0 0\n",
      " 0 0 0 0 0 0 0 0 0 0 0 0 0 0 0 0 0 0 0 0 0 0 0 0 0 0 0 0 0 0 0 0 0 0 0 0 0\n",
      " 0 0 0 0 0 0 0 0 0 0 0 0 0 0 0 0 0 0 0 0 0 0 0 0 0 0 0 0 0 0 0 0 0 0 0 0 0\n",
      " 0 0 0 0 0 0 0 0 0 0 0 0 0 0 0 0 0 0 0 0 0 0 0 0 0 0 0 0 0 0 0 0 0 0 0 0 0\n",
      " 0 0 0 0 0 0 0 0 0 0 0 0 0 0 0 0 0 0 0 0 0 0 0 0 0 0 0 0 0 0 0 0 0 0 0 0 0\n",
      " 0 0 0 0 0 0 0 0 0 0 0 0 0 0 0 0 0 0 0 0 0 0 0 0 0 0 0 0 0 0 0 0 0 0 0 0 0\n",
      " 0 0 0 0 0 0 0 0 0 0 0 0 0 0 0 0 0 0 0 0 0 0 0 0 0 0 0 0 0 0 0 0 0 0 0 0 0\n",
      " 0 0 0 0 0 0 0 0 0 0 0 0 0 0 0 0 0 0 0 0 0 0 0 0 0 0 0 0 0 0 0 0 0 0 0 0 0\n",
      " 0 0 0 0 0 0 0 0 0 0 0 0 0 0 0 0 0 0 0 0 0 0 0 0 0 0 0 1]\n"
     ]
    }
   ],
   "source": [
    "print(y_pred)"
   ]
  },
  {
   "cell_type": "code",
   "execution_count": 25,
   "id": "61dc6980",
   "metadata": {},
   "outputs": [
    {
     "name": "stdout",
     "output_type": "stream",
     "text": [
      "0      0\n",
      "1      0\n",
      "2      0\n",
      "3      0\n",
      "4      0\n",
      "      ..\n",
      "726    0\n",
      "727    0\n",
      "728    0\n",
      "729    1\n",
      "730    1\n",
      "Name: Falha, Length: 731, dtype: int64\n"
     ]
    }
   ],
   "source": [
    "print(y_test)"
   ]
  },
  {
   "cell_type": "code",
   "execution_count": null,
   "id": "d7cd4ecc",
   "metadata": {},
   "outputs": [],
   "source": []
  }
 ],
 "metadata": {
  "kernelspec": {
   "display_name": "Python 3",
   "language": "python",
   "name": "python3"
  },
  "language_info": {
   "codemirror_mode": {
    "name": "ipython",
    "version": 3
   },
   "file_extension": ".py",
   "mimetype": "text/x-python",
   "name": "python",
   "nbconvert_exporter": "python",
   "pygments_lexer": "ipython3",
   "version": "3.9.4"
  }
 },
 "nbformat": 4,
 "nbformat_minor": 5
}
